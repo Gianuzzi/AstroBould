{
 "cells": [
  {
   "cell_type": "code",
   "execution_count": null,
   "id": "8716e94d",
   "metadata": {},
   "outputs": [],
   "source": [
    "import numpy as np\n",
    "import read_data as rd\n",
    "import matplotlib.pyplot as plt"
   ]
  },
  {
   "cell_type": "code",
   "execution_count": null,
   "id": "a03e9f78",
   "metadata": {},
   "outputs": [],
   "source": [
    "data = rd.read_outfile(\"salida.out\", work_dir=\"..\", nboulders=1, coord=False)\n",
    "data[\"lam\"] = (data.M + data.w) % 360\n",
    "print(data.shape)"
   ]
  },
  {
   "cell_type": "code",
   "execution_count": null,
   "id": "5fc2a21a",
   "metadata": {},
   "outputs": [],
   "source": [
    "plt.plot(data.t, data.e, \".\")\n",
    "plt.semilogx()\n",
    "# plt.semilogy()\n",
    "plt.grid(alpha=0.4)"
   ]
  },
  {
   "cell_type": "code",
   "execution_count": null,
   "id": "edfd142d",
   "metadata": {},
   "outputs": [],
   "source": [
    "plt.plot(data.t, data.M, \".\")\n",
    "plt.semilogx()"
   ]
  },
  {
   "cell_type": "code",
   "execution_count": null,
   "id": "331c3a91",
   "metadata": {},
   "outputs": [],
   "source": [
    "plt.plot(data.t, data.w, \".\")\n",
    "plt.semilogx()"
   ]
  },
  {
   "cell_type": "code",
   "execution_count": null,
   "id": "7e387f3a",
   "metadata": {},
   "outputs": [],
   "source": [
    "plt.plot(data.t, data.lam, \".\")\n",
    "plt.semilogx()"
   ]
  },
  {
   "cell_type": "code",
   "execution_count": null,
   "id": "7a97f3a0",
   "metadata": {},
   "outputs": [],
   "source": [
    "plt.plot(data.t, data.theta * 180. / np.pi, \".\")\n",
    "plt.semilogx()"
   ]
  },
  {
   "cell_type": "code",
   "execution_count": null,
   "id": "cf179477",
   "metadata": {},
   "outputs": [],
   "source": [
    "nlast = 5500\n",
    "short = data.iloc[-nlast:]\n",
    "fig, axs = plt.subplots(1, 2, dpi=130, figsize=(10,4))\n",
    "axs[0].plot(data.e * np.cos(np.deg2rad(data.M)), data.e * np.sin(np.deg2rad(data.M)), \".\")\n",
    "axs[0].plot(short.e * np.cos(np.deg2rad(short.M)), short.e * np.sin(np.deg2rad(short.M)), \".\", color=\"k\")\n",
    "axs[0].set_xlabel(\"$e \\\\times \\\\cos(M)$\")\n",
    "axs[0].set_ylabel(\"$e \\\\times \\\\sin(M)$\")\n",
    "axs[0].axis(\"equal\")\n",
    "\n",
    "axs[1].plot(data.t, data.M, \".\")\n",
    "axs[1].plot(short.t, short.M, \"k.\")\n",
    "axs[1].set_xlabel(\"$t$ [days]\")\n",
    "axs[1].set_ylabel(\"$M$ (deg)\")\n",
    "axs[1].semilogx()\n",
    "fig.tight_layout()\n",
    "plt.show()"
   ]
  },
  {
   "cell_type": "code",
   "execution_count": null,
   "id": "b3eb9796",
   "metadata": {},
   "outputs": [],
   "source": [
    "nlast = 5500\n",
    "short = data.iloc[-nlast:]\n",
    "fig, axs = plt.subplots(1, 2, dpi=130, figsize=(10,4))\n",
    "axs[0].plot(data.e * np.cos(np.deg2rad(data.lam)), data.e * np.sin(np.deg2rad(data.lam)), \".\")\n",
    "axs[0].plot(short.e * np.cos(np.deg2rad(short.lam)), short.e * np.sin(np.deg2rad(short.lam)), \".\", color=\"k\")\n",
    "axs[0].set_xlabel(\"$e \\\\times \\\\cos(\\\\lambda)$\")\n",
    "axs[0].set_ylabel(\"$e \\\\times \\\\sin(\\\\lambda)$\")\n",
    "axs[0].axis(\"equal\")\n",
    "axs[0].grid()\n",
    "\n",
    "axs[1].plot(data.t, data.lam, \".\")\n",
    "axs[1].plot(short.t, short.lam, \"k.\")\n",
    "axs[1].set_xlabel(\"$t$ [days]\")\n",
    "axs[1].set_ylabel(\"$\\\\lambda$ (deg)\")\n",
    "axs[1].semilogx()\n",
    "fig.tight_layout()\n",
    "plt.show()"
   ]
  },
  {
   "cell_type": "code",
   "execution_count": null,
   "id": "976425e0",
   "metadata": {},
   "outputs": [],
   "source": [
    "nlast = 5500\n",
    "short = data.iloc[-nlast:]\n",
    "fig, axs = plt.subplots(1, 2, dpi=130, figsize=(10,4))\n",
    "axs[0].plot(data.e * np.cos(np.deg2rad(data.w)), data.e * np.sin(np.deg2rad(data.w)), \".\")\n",
    "axs[0].plot(short.e * np.cos(np.deg2rad(short.w)), short.e * np.sin(np.deg2rad(short.w)), \".\", color=\"k\")\n",
    "axs[0].set_xlabel(\"$e \\\\times \\\\cos(\\\\omega)$\")\n",
    "axs[0].set_ylabel(\"$e \\\\times \\\\sin(\\\\omega)$\")\n",
    "axs[0].axis(\"equal\")\n",
    "axs[0].grid()\n",
    "\n",
    "axs[1].plot(data.t, data.w, \".\")\n",
    "axs[1].plot(short.t, short.w, \"k.\")\n",
    "axs[1].set_xlabel(\"$t$ [days]\")\n",
    "axs[1].set_ylabel(\"$\\\\omega$ (deg)\")\n",
    "axs[1].semilogx()\n",
    "fig.tight_layout()\n",
    "plt.show()"
   ]
  },
  {
   "cell_type": "code",
   "execution_count": null,
   "id": "3f2ee22a",
   "metadata": {},
   "outputs": [],
   "source": [
    "plt.plot(data.lam, \".\")"
   ]
  },
  {
   "cell_type": "code",
   "execution_count": null,
   "id": "6f27e21d",
   "metadata": {},
   "outputs": [],
   "source": [
    "plt.plot(data.mmr, data.e, \".\")\n",
    "plt.semilogy()"
   ]
  },
  {
   "cell_type": "code",
   "execution_count": null,
   "id": "d3e01db1",
   "metadata": {},
   "outputs": [],
   "source": [
    "plt.plot(data.t, data.mmr, \".\")\n",
    "plt.semilogx()"
   ]
  },
  {
   "cell_type": "code",
   "execution_count": null,
   "id": "a90cba78",
   "metadata": {},
   "outputs": [],
   "source": []
  }
 ],
 "metadata": {
  "kernelspec": {
   "display_name": "base",
   "language": "python",
   "name": "python3"
  },
  "language_info": {
   "codemirror_mode": {
    "name": "ipython",
    "version": 3
   },
   "file_extension": ".py",
   "mimetype": "text/x-python",
   "name": "python",
   "nbconvert_exporter": "python",
   "pygments_lexer": "ipython3",
   "version": "3.10.12"
  }
 },
 "nbformat": 4,
 "nbformat_minor": 5
}
