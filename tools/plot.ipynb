{
 "cells": [
  {
   "cell_type": "code",
   "execution_count": null,
   "metadata": {},
   "outputs": [],
   "source": [
    "import os\n",
    "import numpy as np\n",
    "import matplotlib.pyplot as plt\n",
    "import pandas as pd\n",
    "from matplotlib import cm"
   ]
  },
  {
   "cell_type": "code",
   "execution_count": null,
   "metadata": {},
   "outputs": [],
   "source": [
    "cwd = os.getcwd()\n",
    "root_dir = os.path.abspath(os.path.join(cwd, os.pardir))\n",
    "root_dir"
   ]
  },
  {
   "cell_type": "code",
   "execution_count": null,
   "metadata": {},
   "outputs": [],
   "source": [
    "def read_sump(sump_name=\"sump.out\"):\n",
    "    full_name = os.path.join(root_dir, sump_name)\n",
    "    if not os.path.isfile(full_name):\n",
    "        print(\"El archivo %s no existe\"%os.path.basename(full_name))\n",
    "        return\n",
    "    df = pd.read_csv(full_name, delimiter='\\s+', header=None,\n",
    "                      names=[\"idx\",\n",
    "                             \"bad\",\n",
    "                             \"t_t\",\n",
    "                             \"L_t\", # Total\n",
    "                             \"mass\", # Particle\n",
    "                             \"a_i\", \"e_i\", \"M_i\", \"omega_i\", \"R_i\",\n",
    "                             \"l_i\",\n",
    "                             \"t_f\",\n",
    "                             \"a_f\", \"e_f\", \"M_f\", \"omega_f\", \"R_f\",\n",
    "                             \"l_f\",\n",
    "                             \"amin\", \"amax\", \n",
    "                             \"emin\", \"emax\", \n",
    "                             \"da\", \"de\"])\n",
    "    if df.idx.nunique() == 1:\n",
    "        df.idx = range(0,len(df))\n",
    "    return df\n",
    "\n",
    "def read_outfile(name, nboulders=2, coord=False):\n",
    "    full_name = os.path.join(root_dir, name)\n",
    "    if not os.path.isfile(full_name):\n",
    "        print(\"El archivo %s no existe\"%os.path.basename(full_name))\n",
    "        return\n",
    "    if coord:\n",
    "        df = pd.read_csv(name, delimiter='\\s+', header=None,\n",
    "                         names=[\"idx\",\n",
    "                                \"t\",\n",
    "                                \"x\", \"y\",\n",
    "                                \"vx\", \"vy\",\n",
    "                                \"ax\", \"ay\",\n",
    "                                \"mass\", \"radio\"])\n",
    "        df.name = name.split(\".\")[0]\n",
    "        df.nt = df.idx.nunique()\n",
    "        df.nb = nboulders\n",
    "        df.np = df.nt - nboulders\n",
    "        df[\"r\"] = np.sqrt(df[\"x\"]**2 + df[\"y\"]**2)\n",
    "        df[\"v\"] = np.sqrt(df[\"vx\"]**2 + df[\"vy\"]**2)\n",
    "        df[\"a\"] = np.sqrt(df[\"ax\"]**2 + df[\"ay\"]**2)\n",
    "    else:\n",
    "        df = pd.read_csv(name, delimiter='\\s+', header=None,\n",
    "                         names=[\"idx\",\n",
    "                                \"t\",\n",
    "                                \"a\", \"e\", \"M\", \"omega\", \"MMR\",\n",
    "                                \"mass\", # Particle\n",
    "                                \"acorot\", # To Be Changed with Particle_distance\n",
    "                                \"spin\", \"mast\"]) # Asteroid\n",
    "        df.name = name.split(\".\")[0]\n",
    "        df[\"lorb\"] = np.sqrt(df.a * (1 - df.e**2))\n",
    "        df.da = df.a.max() - df.a.min()\n",
    "        df.de = df.e.max() - df.e.min()\n",
    "        df.tmax = df.t.iloc[-1]\n",
    "    return df\n",
    "\n",
    "def read_map(name):\n",
    "    full_name = os.path.join(root_dir, name)\n",
    "    if not os.path.isfile(full_name):\n",
    "        print(\"El archivo %s no existe\"%os.path.basename(full_name))\n",
    "        return\n",
    "    df = pd.read_csv(name, delimiter='\\s+', header=None,\n",
    "                     names=[\"x\", \"y\", \"pot\", \"ax\", \"ay\"])\n",
    "    df[\"r\"] = np.sqrt(df[\"x\"]**2 + df[\"y\"]**2)\n",
    "    df[\"acc\"] = np.sqrt(df[\"ax\"]**2 + df[\"ay\"]**2)\n",
    "    return df\n",
    "\n",
    "get_MMR = lambda a: (a/2.130962668815482E+02)**(3/2)\n",
    "get_a = lambda R: R**(2/3.) * 2.130962668815482E+02"
   ]
  },
  {
   "cell_type": "code",
   "execution_count": null,
   "metadata": {},
   "outputs": [],
   "source": [
    "sump = read_sump()\n",
    "sump"
   ]
  },
  {
   "cell_type": "code",
   "execution_count": null,
   "metadata": {},
   "outputs": [],
   "source": [
    "if sump:\n",
    "    bad = sump.bad > 0\n",
    "    plt.figure(dpi=150)\n",
    "    plt.suptitle(\"$t_{max} = %d$ yrs\"%int(sump.t_t.max()/365.25))\n",
    "    plt.plot(sump.R_i[bad], sump.R_f[bad], \".\", label=\"Colision\")\n",
    "    plt.plot(sump.R_i[~bad], sump.R_f[~bad], \".\", label=\"Survived\")\n",
    "    plt.xlabel(\"Initial RMM\")\n",
    "    plt.ylabel(\"Final RMM\")\n",
    "    plt.legend()\n",
    "    plt.show()"
   ]
  },
  {
   "cell_type": "code",
   "execution_count": null,
   "metadata": {},
   "outputs": [],
   "source": [
    "file_list = []\n",
    "pref = \"dpy\"\n",
    "suffix = \"\"\n",
    "# Recorre todas las subcarpetas en la carpeta raíz\n",
    "for subdir in os.listdir(root_dir):\n",
    "    # Verifica si el nombre de la subcarpeta comienza con 'pref'\n",
    "    if subdir.startswith(pref):\n",
    "        subdir_path = os.path.join(root_dir, subdir)\n",
    "        # Recorre todos los archivos en la subcarpeta\n",
    "        for filename in os.listdir(subdir_path):\n",
    "            # Verifica si el nombre del archivo comienza con\n",
    "            # \"chaos\" y termina con \".dat\"\n",
    "            if (filename.startswith(\"salida\")\n",
    "                and filename.endswith(\".dat\")\n",
    "                and (suffix in filename)\n",
    "            ):\n",
    "                filepath = os.path.join(subdir_path, filename)\n",
    "                file_list.append(filepath)\n",
    "\n",
    "# Ordena los nombres de los archivos por el valor de i en \"chaos%d%s.dat\"\n",
    "if suffix == \"\":\n",
    "    file_list = sorted(\n",
    "        file_list, key=lambda x: int(x.split(\"salida\")[1].split(\".dat\")[0])\n",
    "    )\n",
    "else:\n",
    "    file_list = sorted(\n",
    "        file_list,\n",
    "        key=lambda x: int(\n",
    "            x.split(\"salida\")[1].split(\".dat\")[0].split(suffix)[0]\n",
    "        ),\n",
    "    )"
   ]
  },
  {
   "cell_type": "code",
   "execution_count": null,
   "metadata": {},
   "outputs": [],
   "source": [
    "dfs = dict()\n",
    "for salida in file_list:\n",
    "    number = os.path.basename(salida)[6:].split(\".\")[0]\n",
    "    df = read_outfile(salida, coord=False)\n",
    "    dfs[int(number)] = df    "
   ]
  },
  {
   "cell_type": "code",
   "execution_count": null,
   "metadata": {},
   "outputs": [],
   "source": [
    "if dfs:\n",
    "    plt.figure(dpi=200)\n",
    "    plt.suptitle(\"Drag coefficient: %.3f\"%1e-2)\n",
    "    for idf in dfs:\n",
    "        plt.plot(dfs[idf].t/365.25, dfs[idf].e, \"k-\", lw=0.6, ms=0.2, alpha=idf/120)\n",
    "    plt.xlabel(\"Years\")\n",
    "    plt.ylabel(\"$e$\")\n",
    "    plt.semilogx()\n",
    "    plt.semilogy()\n",
    "    plt.show()"
   ]
  },
  {
   "cell_type": "code",
   "execution_count": null,
   "metadata": {},
   "outputs": [],
   "source": [
    "if dfs:\n",
    "    plt.figure(dpi=170)\n",
    "    plt.suptitle(\"Drag coefficient: %.3f\"%1e-2)\n",
    "    for idf in dfs:\n",
    "        plt.plot(dfs[idf].t/365.25, (dfs[idf].lorb - dfs[idf].lorb.iloc[0])/dfs[idf].lorb.iloc[0], \"k.\", lw=0.6, ms=0.2)\n",
    "    plt.xlabel(\"Years\")\n",
    "    plt.ylabel(\"$\\\\Delta L_{part}/L_{part}(t=0)$\")\n",
    "    plt.grid()\n",
    "    plt.semilogx()\n",
    "    plt.xticks([10**x for x in range(-2,7)])\n",
    "    plt.show()"
   ]
  },
  {
   "cell_type": "code",
   "execution_count": null,
   "metadata": {},
   "outputs": [],
   "source": [
    "if dfs:\n",
    "    G = 4.9823394e-10 \n",
    "    m0 = 6.3e18\n",
    "    R0 = 129.\n",
    "    mD = m0 * 1e1\n",
    "    mp = mD / len(dfs)\n",
    "    mu = G * m0 * mp\n",
    "    I = 4.204006931643356E+22\n",
    "    Last = 7.575367962011342E+23\n",
    "    omegai = 1.801939931400187E+01"
   ]
  },
  {
   "cell_type": "code",
   "execution_count": null,
   "metadata": {},
   "outputs": [],
   "source": [
    "if dfs:\n",
    "    plt.figure(dpi=150)\n",
    "    for i in range(len(dfs)-2):\n",
    "        Lparti = np.sqrt(mu) * dfs[i].lorb.iloc[0]\n",
    "        dfs[i].Ltot = Last + Lparti\n",
    "        plt.plot(dfs[i].a.iloc[0], Lparti / dfs[i].Ltot, \"k.\")\n",
    "        Lpartf = np.sqrt(mu) * dfs[i].lorb.iloc[-1]\n",
    "        plt.plot(dfs[i].a.iloc[0], Lpartf / dfs[i].Ltot, \"r.\")\n",
    "    i = len(dfs)-1\n",
    "    Lparti = np.sqrt(mu) * dfs[i].lorb.iloc[0]\n",
    "    dfs[i].Ltot = Last + Lparti\n",
    "    plt.plot(dfs[i].a.iloc[0], Lparti / dfs[i].Ltot, \"k.\", label=\"Initial\")\n",
    "    Lpartf = np.sqrt(mu) * dfs[i].lorb.iloc[-1]\n",
    "    plt.plot(dfs[i].a.iloc[0], Lpartf / dfs[i].Ltot, \"r.\", label=\"Final\")\n",
    "    plt.legend()\n",
    "    plt.ylabel(\"$L_{part}/L_{tot}$\")\n",
    "    plt.xlabel(\"Initial $a$ [km]\")\n",
    "    plt.show()"
   ]
  },
  {
   "cell_type": "code",
   "execution_count": null,
   "metadata": {},
   "outputs": [],
   "source": [
    "if dfs:\n",
    "    plt.figure(dpi=170)\n",
    "    for i in dfs:\n",
    "        df = dfs[i]\n",
    "        Li = df.lorb.iloc[0]\n",
    "        Lf = df.lorb.iloc[-1]\n",
    "        plt.plot(df.tmax/365.25, np.sqrt(mu) * (Lf - Li) / I, \"k.\")\n",
    "    plt.xlabel(\"tmax [years]\")\n",
    "    plt.ylabel(\"$\\Delta a$ [km]\")\n",
    "    plt.ylabel(\"$\\Delta \\Omega$\")\n",
    "    plt.semilogx()\n",
    "    # plt.semilogy()\n",
    "    plt.show()"
   ]
  },
  {
   "cell_type": "code",
   "execution_count": null,
   "metadata": {},
   "outputs": [],
   "source": [
    "if dfs:\n",
    "    plt.figure(dpi=170)\n",
    "    for i in dfs:\n",
    "        df = dfs[i]\n",
    "        Li = df.lorb.iloc[0]\n",
    "        Lf = df.lorb.iloc[-1]\n",
    "        delta_omega = np.sqrt(mu) * (Lf - Li) / I\n",
    "        omegaf = omegai + delta_omega\n",
    "        plt.plot(df.tmax/365.25, 2 * np.pi * (1/omegaf - 1/omegai), \"k.\")\n",
    "    plt.xlabel(\"tmax [years]\")\n",
    "    plt.ylabel(\"$\\Delta a$ [km]\")\n",
    "    plt.ylabel(\"$\\Delta$ P [days]\")\n",
    "    plt.semilogx()\n",
    "    # plt.semilogy()\n",
    "    plt.show()"
   ]
  },
  {
   "cell_type": "code",
   "execution_count": null,
   "metadata": {},
   "outputs": [],
   "source": [
    "if dfs:\n",
    "    plt.figure(dpi=170)\n",
    "    for i in dfs:\n",
    "        df = dfs[i]\n",
    "        Li = df.lorb.iloc[0]\n",
    "        Lf = df.lorb.iloc[-1]\n",
    "        plt.plot(df.tmax/365.25, np.sqrt(mu) * (Lf - Li), \"k.\")\n",
    "    plt.xlabel(\"tmax [years]\")\n",
    "    plt.ylabel(\"$\\Delta a$ [km]\")\n",
    "    plt.ylabel(\"$\\Delta L$\")\n",
    "    plt.semilogx()\n",
    "    plt.semilogy()\n",
    "    plt.show()"
   ]
  },
  {
   "cell_type": "code",
   "execution_count": null,
   "metadata": {},
   "outputs": [],
   "source": [
    "mapa = read_map(\"mapa.dat\")\n",
    "mapa"
   ]
  },
  {
   "cell_type": "code",
   "execution_count": null,
   "metadata": {},
   "outputs": [],
   "source": [
    "if mapa:\n",
    "    # Create pivot table\n",
    "    pivot = mapa.pivot_table(values=[\"pot\", \"acc\", \"ax\", \"ay\"], index=\"x\", columns=\"y\")\n",
    "    pivot"
   ]
  },
  {
   "cell_type": "code",
   "execution_count": null,
   "metadata": {},
   "outputs": [],
   "source": [
    "if mapa:\n",
    "    # Plot the potential, with pcolormesh\n",
    "    plt.figure(dpi=150)\n",
    "    plt.pcolormesh(np.log10(pivot[\"pot\"].abs()))\n",
    "    plt.colorbar()\n",
    "    plt.show()"
   ]
  },
  {
   "cell_type": "code",
   "execution_count": null,
   "metadata": {},
   "outputs": [],
   "source": [
    "if mapa:\n",
    "    # Plot the potential, with pcolormesh\n",
    "    fig, axs = plt.subplots(1,3,dpi=150, sharey=True, figsize=(16,4))\n",
    "    axs[0].pcolormesh(np.log10(pivot[\"acc\"].abs()), vmin=1, vmax=7)\n",
    "    axs[1].pcolormesh(np.log10(pivot[\"ax\"].abs()), vmin=1, vmax=7)\n",
    "    p = axs[2].pcolormesh(np.log10(pivot[\"ay\"].abs()), vmin=1, vmax=7)\n",
    "    fig.colorbar(p, ax=axs.ravel().tolist())\n",
    "    plt.show()"
   ]
  },
  {
   "cell_type": "code",
   "execution_count": null,
   "metadata": {},
   "outputs": [],
   "source": []
  }
 ],
 "metadata": {
  "kernelspec": {
   "display_name": "base",
   "language": "python",
   "name": "python3"
  },
  "language_info": {
   "codemirror_mode": {
    "name": "ipython",
    "version": 3
   },
   "file_extension": ".py",
   "mimetype": "text/x-python",
   "name": "python",
   "nbconvert_exporter": "python",
   "pygments_lexer": "ipython3",
   "version": "3.9.18"
  }
 },
 "nbformat": 4,
 "nbformat_minor": 2
}
