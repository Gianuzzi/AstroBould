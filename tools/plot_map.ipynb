{
 "cells": [
  {
   "cell_type": "code",
   "execution_count": null,
   "metadata": {},
   "outputs": [],
   "source": [
    "import os\n",
    "import numpy as np\n",
    "import matplotlib.pyplot as plt\n",
    "import pandas as pd"
   ]
  },
  {
   "cell_type": "code",
   "execution_count": null,
   "metadata": {},
   "outputs": [],
   "source": [
    "cwd = os.getcwd()\n",
    "root_dir = os.path.abspath(os.path.join(cwd, os.pardir))\n",
    "root_dir"
   ]
  },
  {
   "cell_type": "code",
   "execution_count": null,
   "metadata": {},
   "outputs": [],
   "source": [
    "def read_map(name):\n",
    "    full_name = os.path.join(root_dir, name)\n",
    "    if not os.path.isfile(full_name):\n",
    "        print(\"El archivo %s no existe\"%os.path.basename(full_name))\n",
    "        return\n",
    "    try:\n",
    "        df = pd.read_csv(full_name, delimiter='\\\\s+', header=None,\n",
    "                        names=[\"x\", \"y\", \"pot\", \"ax\", \"ay\"])\n",
    "        df[\"r\"] = np.sqrt(df[\"x\"]**2 + df[\"y\"]**2)\n",
    "        df[\"acc\"] = np.sqrt(df[\"ax\"]**2 + df[\"ay\"]**2)\n",
    "    except Exception as e:\n",
    "        print(\"Error al leer el archivo %s\"%os.path.basename(full_name))\n",
    "        print(e)\n",
    "        df = None\n",
    "    return df"
   ]
  },
  {
   "cell_type": "code",
   "execution_count": null,
   "metadata": {},
   "outputs": [],
   "source": [
    "mapa = read_map(\"map.out\")\n",
    "mapa"
   ]
  },
  {
   "cell_type": "code",
   "execution_count": null,
   "metadata": {},
   "outputs": [],
   "source": [
    "if mapa is not None:\n",
    "    # Create pivot table\n",
    "    pivot = mapa.pivot_table(values=[\"pot\", \"acc\", \"ax\", \"ay\"], index=\"y\", columns=\"x\")\n",
    "    copyvot = pivot[\"pot\"].where(pivot[\"ax\"] != 0., 0.)\n",
    "    pivot"
   ]
  },
  {
   "cell_type": "code",
   "execution_count": null,
   "metadata": {},
   "outputs": [],
   "source": [
    "if mapa is not None:\n",
    "    # Plot the potential, with pcolormesh\n",
    "    fig, ax = plt.subplots(figsize=(6,6), dpi=150)\n",
    "\n",
    "    pcm = ax.pcolormesh(np.log10(copyvot.abs()), vmin=7.0, vmax=7.75)\n",
    "\n",
    "    # ax.set_title(\"Potential\")\n",
    "    ax.set_aspect(\"equal\")\n",
    "    ax.set_xticks([])\n",
    "    ax.set_yticks([])\n",
    "\n",
    "    cbar = plt.colorbar(pcm, ax=ax, fraction=0.046, pad=0.04)\n",
    "    cbar.set_label(\"$\\log_{10}$(pot)\")\n",
    "\n",
    "    # Draw some contours\n",
    "    ax.contour(np.log10(pivot[\"pot\"].abs()),\n",
    "               levels=np.linspace(7.1, 7.36, 5),\n",
    "               colors=\"k\")\n",
    "    \n",
    "    fig.tight_layout()\n",
    "\n",
    "    plt.savefig(\"potential.png\", bbox_inches=\"tight\")\n",
    "\n",
    "    plt.show()"
   ]
  },
  {
   "cell_type": "code",
   "execution_count": null,
   "metadata": {},
   "outputs": [],
   "source": [
    "if mapa is not None:\n",
    "    # Plot the potential, with pcolormesh\n",
    "    fig, axs = plt.subplots(1,3,dpi=150, sharey=True, figsize=(16,4))\n",
    "    axs[0].pcolormesh(np.log10(pivot[\"acc\"].abs()), vmin=1, vmax=7)\n",
    "    axs[1].pcolormesh(np.log10(pivot[\"ax\"].abs()), vmin=1, vmax=7)\n",
    "    p = axs[2].pcolormesh(np.log10(pivot[\"ay\"].abs()), vmin=1, vmax=7)\n",
    "    fig.colorbar(p, ax=axs.ravel().tolist())\n",
    "    plt.show()"
   ]
  },
  {
   "cell_type": "code",
   "execution_count": null,
   "metadata": {},
   "outputs": [],
   "source": []
  }
 ],
 "metadata": {
  "kernelspec": {
   "display_name": "base",
   "language": "python",
   "name": "python3"
  },
  "language_info": {
   "codemirror_mode": {
    "name": "ipython",
    "version": 3
   },
   "file_extension": ".py",
   "mimetype": "text/x-python",
   "name": "python",
   "nbconvert_exporter": "python",
   "pygments_lexer": "ipython3",
   "version": "3.12.3"
  }
 },
 "nbformat": 4,
 "nbformat_minor": 2
}
