{
 "cells": [
  {
   "cell_type": "code",
   "execution_count": null,
   "metadata": {},
   "outputs": [],
   "source": [
    "import os\n",
    "import matplotlib.pyplot as plt\n",
    "import pandas as pd"
   ]
  },
  {
   "cell_type": "code",
   "execution_count": null,
   "metadata": {},
   "outputs": [],
   "source": [
    "cwd = os.getcwd()\n",
    "root_dir = os.path.abspath(os.path.join(cwd, os.pardir))\n",
    "root_dir"
   ]
  },
  {
   "cell_type": "code",
   "execution_count": null,
   "metadata": {},
   "outputs": [],
   "source": [
    "def read_chaos(chaos_name=\"sump.out\"):\n",
    "    full_name = os.path.join(root_dir, chaos_name)\n",
    "    if not os.path.isfile(full_name):\n",
    "        print(\"El archivo %s no existe\"%os.path.basename(full_name))\n",
    "        return\n",
    "    df = pd.read_csv(full_name, delimiter='\\s+', header=None,\n",
    "                      names=[\"idx\",\n",
    "                             \"bad\",\n",
    "                             \"t_t\",\n",
    "                             \"L_t\", # Total\n",
    "                             \"mass\", # Particle\n",
    "                             \"a_i\", \"e_i\", \"M_i\", \"omega_i\", \"R_i\",\n",
    "                             \"l_i\",\n",
    "                             \"t_f\",\n",
    "                             \"a_f\", \"e_f\", \"M_f\", \"omega_f\", \"R_f\",\n",
    "                             \"l_f\",\n",
    "                             \"amin\", \"amax\", \n",
    "                             \"emin\", \"emax\", \n",
    "                             \"da\", \"de\"])\n",
    "    return df"
   ]
  }
 ],
 "metadata": {
  "language_info": {
   "name": "python"
  }
 },
 "nbformat": 4,
 "nbformat_minor": 2
}
