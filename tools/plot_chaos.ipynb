{
 "cells": [
  {
   "cell_type": "code",
   "execution_count": null,
   "id": "e6872761",
   "metadata": {},
   "outputs": [],
   "source": [
    "import numpy as np\n",
    "import pandas as pd\n",
    "import matplotlib.pyplot as plt\n",
    "\n",
    "import read_data as rd"
   ]
  },
  {
   "cell_type": "code",
   "execution_count": null,
   "id": "c6c83ff1",
   "metadata": {},
   "outputs": [],
   "source": [
    "chaos = rd.read_chaos(\n",
    "    chaos_name=\"chaos.out\", \n",
    "    work_dir=\"../simulation/\"\n",
    "    )\n",
    "display(chaos)"
   ]
  },
  {
   "cell_type": "code",
   "execution_count": null,
   "id": "e8621907",
   "metadata": {},
   "outputs": [],
   "source": [
    "piv = pd.pivot_table(chaos, columns=\"mmr_i\", index=\"e_i\")\n",
    "piv"
   ]
  },
  {
   "cell_type": "code",
   "execution_count": null,
   "id": "f6ec56a3",
   "metadata": {},
   "outputs": [],
   "source": [
    "da = piv[\"amax\"] - piv[\"amin\"]\n",
    "de = piv[\"emax\"] - piv[\"emin\"]"
   ]
  },
  {
   "cell_type": "code",
   "execution_count": null,
   "id": "216ba27c",
   "metadata": {},
   "outputs": [],
   "source": [
    "plt.figure(dpi=250)\n",
    "\n",
    "if de.shape[0] == 1:\n",
    "    plt.plot(de.columns.values, np.log10(de.values.ravel()))\n",
    "    plt.ylabel(\"$\\\\log_{10}(\\\\Delta e)$\")\n",
    "    plt.grid(alpha=0.3)\n",
    "\n",
    "else:\n",
    "    plt.pcolormesh(de.columns.values, de.index.values,\n",
    "               np.log10(de),\n",
    "               vmin=-2, vmax=np.log10(0.5),\n",
    "               cmap=\"jet\")\n",
    "    plt.colorbar(label=\"$\\\\log_{10}(\\\\Delta e)$\")\n",
    "    plt.ylabel(\"$e$\")\n",
    "    \n",
    "plt.xlabel(\"SOR\")\n",
    "\n",
    "plt.show()"
   ]
  },
  {
   "cell_type": "code",
   "execution_count": null,
   "id": "55fa8510",
   "metadata": {},
   "outputs": [],
   "source": []
  },
  {
   "cell_type": "code",
   "execution_count": null,
   "id": "76f20385",
   "metadata": {},
   "outputs": [],
   "source": []
  }
 ],
 "metadata": {
  "kernelspec": {
   "display_name": "base",
   "language": "python",
   "name": "python3"
  },
  "language_info": {
   "codemirror_mode": {
    "name": "ipython",
    "version": 3
   },
   "file_extension": ".py",
   "mimetype": "text/x-python",
   "name": "python",
   "nbconvert_exporter": "python",
   "pygments_lexer": "ipython3",
   "version": "3.10.12"
  }
 },
 "nbformat": 4,
 "nbformat_minor": 5
}
