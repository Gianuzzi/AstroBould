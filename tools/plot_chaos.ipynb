{
 "cells": [
  {
   "cell_type": "code",
   "execution_count": null,
   "metadata": {},
   "outputs": [],
   "source": [
    "import os\n",
    "import matplotlib.pyplot as plt\n",
    "import pandas as pd"
   ]
  },
  {
   "cell_type": "code",
   "execution_count": null,
   "metadata": {},
   "outputs": [],
   "source": [
    "cwd = os.getcwd()\n",
    "root_dir = os.path.abspath(os.path.join(cwd, os.pardir))\n",
    "root_dir"
   ]
  },
  {
   "cell_type": "code",
   "execution_count": null,
   "metadata": {},
   "outputs": [],
   "source": [
    "names=[\"nsim\",\n",
    "       \"idx\",\n",
    "       \"btype\",\n",
    "       \"res\",\n",
    "       \"time_f\",\n",
    "       \"theta_i\", \"omega_i\", \"a_i\", \"e_i\", \"M_i\", \"w_i\", \"mmr_i\",\n",
    "       \"mass_i\", \"radius_i\",\n",
    "       \"theta_f\", \"omega_f\", \"a_f\", \"e_f\", \"M_f\", \"w_f\", \"mmr_f\",\n",
    "       \"mass_f\", \"radius_f\",\n",
    "       \"amin\", \"amax\", \n",
    "       \"emin\", \"emax\"]\n",
    "def read_chaos(chaos_name=\"sump.out\"):\n",
    "    full_name = os.path.join(root_dir, chaos_name)\n",
    "    if not os.path.isfile(full_name):\n",
    "        print(\"El archivo %s no existe\"%os.path.basename(full_name))\n",
    "        return\n",
    "    df = pd.read_csv(full_name, delimiter='\\\\s+', header=None)\n",
    "    df.columns = names if len(df.columns == 28) else names[1:]\n",
    "    return df"
   ]
  },
  {
   "cell_type": "code",
   "execution_count": null,
   "metadata": {},
   "outputs": [],
   "source": [
    "read_chaos(\"simulation/chaos.out\")"
   ]
  },
  {
   "cell_type": "code",
   "execution_count": null,
   "metadata": {},
   "outputs": [],
   "source": []
  }
 ],
 "metadata": {
  "kernelspec": {
   "display_name": "base",
   "language": "python",
   "name": "python3"
  },
  "language_info": {
   "codemirror_mode": {
    "name": "ipython",
    "version": 3
   },
   "file_extension": ".py",
   "mimetype": "text/x-python",
   "name": "python",
   "nbconvert_exporter": "python",
   "pygments_lexer": "ipython3",
   "version": "3.12.3"
  }
 },
 "nbformat": 4,
 "nbformat_minor": 2
}
