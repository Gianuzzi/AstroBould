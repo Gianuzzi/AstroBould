{
 "cells": [
  {
   "cell_type": "code",
   "execution_count": null,
   "id": "30da889b-3111-4261-b066-ad41bb28bd81",
   "metadata": {},
   "outputs": [],
   "source": [
    "import os\n",
    "import re\n",
    "import numpy as np\n",
    "import pandas as pd\n",
    "import matplotlib.pyplot as plt"
   ]
  },
  {
   "cell_type": "code",
   "execution_count": null,
   "id": "3b05c587-2faf-454f-97b5-e2afb6702337",
   "metadata": {},
   "outputs": [],
   "source": [
    "# cwd = os.getcwd()\n",
    "cwd = os.path.abspath(os.path.join(os.getcwd(), os.pardir))\n",
    "dir_name = \"m2f2O025\"  #\"Beauge\"\n",
    "mu_coeff = int(dir_name[1])\n",
    "eta_coeff = int(dir_name[3])\n"
   ]
  },
  {
   "cell_type": "code",
   "execution_count": null,
   "id": "afaacb80-cf69-4e31-ae5c-c1c49b8e198f",
   "metadata": {},
   "outputs": [],
   "source": [
    "def list_matching_files_with_numbers(dir_name):\n",
    "    matching_files = []\n",
    "    dpy_pattern = re.compile(r\"^dpy\\d+$\")  # Matches \"dpy<int>\"\n",
    "    salida_pattern = re.compile(r\"^salida(\\d+)\\.out$\")  # Captures number after \"salida\"\n",
    "\n",
    "    if not os.path.isdir(dir_name):\n",
    "        return []\n",
    "\n",
    "    for dpy_dir in os.listdir(dir_name):\n",
    "        dpy_path = os.path.join(dir_name, dpy_dir)\n",
    "        if os.path.isdir(dpy_path) and dpy_pattern.match(dpy_dir):\n",
    "            for file in os.listdir(dpy_path):\n",
    "                match = salida_pattern.match(file)\n",
    "                if match:\n",
    "                    salida_number = int(match.group(1))  # Extract the number\n",
    "                    matching_files.append((os.path.join(dpy_path, file), salida_number))\n",
    "\n",
    "    return matching_files\n",
    "\n",
    "def read_simu(file):\n",
    "    return pd.read_csv(file,\n",
    "                       header=None,\n",
    "                       sep='\\s+',\n",
    "                       index_col=None,\n",
    "                       names=[\"nsim\", \"t\", \"a\", \"e\", \"M\", \"w\", \"R\", \"mass\", \"dist\", \"spin\", \"ast_mass\"],\n",
    "                       usecols=range(11),\n",
    "                      )"
   ]
  },
  {
   "cell_type": "code",
   "execution_count": null,
   "id": "ab73d9fb-8721-4eb0-9f11-fb232aa9e36d",
   "metadata": {},
   "outputs": [],
   "source": [
    "files = list_matching_files_with_numbers(os.path.join(cwd, dir_name))"
   ]
  },
  {
   "cell_type": "code",
   "execution_count": null,
   "id": "a67f6365-0fc1-4a0d-b608-f3dff063e236",
   "metadata": {},
   "outputs": [],
   "source": [
    "salida = None\n",
    "if os.path.isfile(os.path.join(cwd, dir_name, \"salida2.out\")):\n",
    "    salida = read_simu(os.path.join(cwd, dir_name, \"salida.out\"))\n",
    "else:\n",
    "    simus = {}\n",
    "    for file_num in files:\n",
    "        simus[file_num[1]] = read_simu(file_num[0])"
   ]
  },
  {
   "cell_type": "code",
   "execution_count": null,
   "id": "094c4c26-b992-4a03-bb92-7e717c926225",
   "metadata": {},
   "outputs": [],
   "source": [
    "G = 4.9823394e-10  # [km^3 kg^(-1) day^(-2)]\n",
    "if salida is not None:\n",
    "    mu = G * salida.ast_mass.iloc[0]\n",
    "    spin = salida.spin.iloc[0]\n",
    "elif len(simus) > 0:\n",
    "    mu = G * simus[1].ast_mass.iloc[0]\n",
    "    spin = simus[1].spin.iloc[0]\n",
    "else:\n",
    "    raise ValueError(\"No data found\")"
   ]
  },
  {
   "cell_type": "code",
   "execution_count": null,
   "id": "a8f8f449-603f-409a-86e6-47e72eeef0b2",
   "metadata": {},
   "outputs": [],
   "source": [
    "def a_from_ratio(ratio):\n",
    "    one_n2 = (ratio / spin)**2\n",
    "    return (mu * one_n2)**(1/3.)\n",
    "\n",
    "def ratio_from_a(a):\n",
    "    one_n = np.sqrt(a**3 / mu)\n",
    "    return spin * one_n"
   ]
  },
  {
   "cell_type": "code",
   "execution_count": null,
   "id": "93f6351e-aa6f-4168-8627-5076d81fc990",
   "metadata": {},
   "outputs": [],
   "source": [
    "plt.figure(dpi=150)\n",
    "\n",
    "if salida is not None:\n",
    "    plt.plot(salida.t/365.25, salida.a, \"r.\", lw=0.4, ms=0.4, label=\"salida\")\n",
    "else:\n",
    "    for simu in simus.values():\n",
    "        plt.plot(simu.t.iloc[:-1]/365.25, simu.a.iloc[:-1], \"k-\", lw=0.4)\n",
    "\n",
    "plt.semilogx()\n",
    "\n",
    "plt.xlabel(\"time [yrs]\")\n",
    "plt.ylabel(\"$a$ [km]\")\n",
    "\n",
    "plt.title(\"$\\mu=10^{-%d}$   $\\eta=10^{-%d}$\"%(mu_coeff, eta_coeff))\n",
    "\n",
    "# plt.yticks(np.linspace(1.5, 4, 6))\n",
    "\n",
    "# ax2 = plt.gca().secondary_yaxis(\"right\", functions=(a_from_ratio, ratio_from_a))\n",
    "# ax2.set_ylabel(\"$a$ [km]\")\n",
    "\n",
    "plt.tick_params(axis=\"both\", top=True, right=False, direction=\"inout\", which=\"both\")\n",
    "plt.grid(alpha=0.4)\n",
    "\n",
    "plt.ylim(130, 350)\n",
    "\n",
    "plt.show()"
   ]
  },
  {
   "cell_type": "code",
   "execution_count": null,
   "id": "f8bb5b2e-ce62-48f8-bd6b-ff2aa2e83635",
   "metadata": {},
   "outputs": [],
   "source": [
    "plt.figure(dpi=150)\n",
    "\n",
    "for simu in simus.values():\n",
    "    plt.plot(simu.t/365.25, simu.R, \"k-\", lw=0.4)\n",
    "\n",
    "plt.semilogx()\n",
    "\n",
    "plt.xlabel(\"time [yrs]\")\n",
    "plt.ylabel(\"$\\Omega/n$\")\n",
    "\n",
    "plt.title(\"$\\mu=10^{-%d}$   $\\eta=10^{-%d}$\"%(mu_coeff, eta_coeff))\n",
    "\n",
    "plt.yticks(np.linspace(1.5, 4, 6))\n",
    "\n",
    "# ax2 = plt.gca().secondary_yaxis(\"right\", functions=(a_from_ratio, ratio_from_a))\n",
    "# ax2.set_ylabel(\"$a$ [km]\")\n",
    "\n",
    "plt.tick_params(axis=\"both\", top=True, right=False, direction=\"inout\", which=\"both\")\n",
    "plt.grid(alpha=0.4)\n",
    "\n",
    "plt.show()"
   ]
  },
  {
   "cell_type": "code",
   "execution_count": null,
   "id": "caa385bb-df50-4081-a1bf-132103ff307d",
   "metadata": {},
   "outputs": [],
   "source": []
  }
 ],
 "metadata": {
  "kernelspec": {
   "display_name": "base",
   "language": "python",
   "name": "python3"
  },
  "language_info": {
   "codemirror_mode": {
    "name": "ipython",
    "version": 3
   },
   "file_extension": ".py",
   "mimetype": "text/x-python",
   "name": "python",
   "nbconvert_exporter": "python",
   "pygments_lexer": "ipython3",
   "version": "3.12.3"
  }
 },
 "nbformat": 4,
 "nbformat_minor": 5
}
