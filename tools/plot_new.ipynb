{
 "cells": [
  {
   "cell_type": "code",
   "execution_count": null,
   "id": "52533014",
   "metadata": {},
   "outputs": [],
   "source": [
    "import os\n",
    "import numpy as np\n",
    "import pandas as pd\n",
    "import matplotlib.pyplot as plt\n",
    "\n",
    "cwd = os.getcwd()\n",
    "root_dir = os.path.abspath(os.path.join(cwd, os.pardir))\n",
    "root_dir"
   ]
  },
  {
   "cell_type": "code",
   "execution_count": null,
   "id": "df95ec3c",
   "metadata": {},
   "outputs": [],
   "source": [
    "def read_outfile(name, nboulders=0, coord=False):\n",
    "    full_name = os.path.join(root_dir, name)\n",
    "    if not os.path.isfile(full_name):\n",
    "        print(\"El archivo %s no existe\"%os.path.basename(full_name))\n",
    "        return\n",
    "    if coord:\n",
    "        df = pd.read_csv(full_name, delimiter='\\\\s+', header=None,\n",
    "                         names=[\"idx\",\n",
    "                                \"btype\",\n",
    "                                \"t\",\n",
    "                                \"theta\", \"omega\", \n",
    "                                \"x\", \"y\",\n",
    "                                \"vx\", \"vy\",\n",
    "                                \"mass\", \"radius\"])\n",
    "        df.name = name.split(\".\")[0]\n",
    "        df.nt = df.idx.nunique()\n",
    "        df.nb = nboulders\n",
    "        df.np = df.nt - nboulders\n",
    "        df[\"r\"] = np.sqrt(df[\"x\"]**2 + df[\"y\"]**2)\n",
    "        df[\"v\"] = np.sqrt(df[\"vx\"]**2 + df[\"vy\"]**2)\n",
    "    else:\n",
    "        df = pd.read_csv(full_name, delimiter='\\\\s+', header=None,\n",
    "                         names=[\"idx\",\n",
    "                                \"btype\",\n",
    "                                \"t\",\n",
    "                                \"theta\", \"omega\", \n",
    "                                \"a\", \"e\", \"M\", \"w\", \"mmr\",\n",
    "                                \"mass\", \"radius\",\n",
    "                                \"dist\"]) # Asteroid\n",
    "        df.name = name.split(\".\")[0]\n",
    "        df.tmax = df.t.iloc[-1]\n",
    "    return df"
   ]
  },
  {
   "cell_type": "code",
   "execution_count": null,
   "id": "0a0f5ade",
   "metadata": {},
   "outputs": [],
   "source": [
    "from matplotlib.patches import Circle\n",
    "from matplotlib.collections import PatchCollection\n",
    "\n",
    "\n",
    "def circles_with_radius(ax, x, y, radii, **kwargs):\n",
    "    \"\"\"\n",
    "    Plot many circles with radius in *data units* efficiently using PatchCollection.\n",
    "    \"\"\"\n",
    "    patches = [Circle((cx, cy), r) for cx, cy, r in zip(x, y, radii)]\n",
    "    collection = PatchCollection(patches, **kwargs)\n",
    "    ax.add_collection(collection)\n",
    "    return collection"
   ]
  },
  {
   "cell_type": "code",
   "execution_count": null,
   "id": "0655da3c",
   "metadata": {},
   "outputs": [],
   "source": [
    "coord = True\n",
    "data = read_outfile(\"salida.out\", coord=coord)\n",
    "data"
   ]
  },
  {
   "cell_type": "code",
   "execution_count": null,
   "id": "42692510",
   "metadata": {},
   "outputs": [],
   "source": [
    "this = data.idx == -1\n",
    "if coord:\n",
    "    plt.plot(data.x.loc[this], data.y.loc[this], \".--\")\n",
    "    plt.axis(\"equal\")"
   ]
  },
  {
   "cell_type": "code",
   "execution_count": null,
   "id": "76ff3e18",
   "metadata": {},
   "outputs": [],
   "source": [
    "ntot = data.idx.nunique()\n",
    "idsorted = sorted(data.idx.unique())\n",
    "plt.figure(dpi=150)\n",
    "ax = plt.gca()\n",
    "if coord:\n",
    "    # data[[\"x\", \"y\", \"vx\", \"vy\"]] = data[[\"x\", \"y\", \"vx\", \"vy\"]].values - np.repeat(data[[\"x\", \"y\", \"vx\", \"vy\"]].values[::ntot], ntot, axis=0)\n",
    "    \n",
    "    for i in range(ntot):\n",
    "        this = data.idx == idsorted[i]\n",
    "        if (data.btype.loc[this].iloc[0] > 1) and (data.btype.loc[this].iloc[0] < 2) and (data.radius.loc[this].iloc[0] > 0.0):\n",
    "            # Initial condition\n",
    "            circ = Circle((data.x.loc[this].iloc[0], data.y.loc[this].iloc[0]), data.radius.loc[this].iloc[0],\n",
    "                           transform=ax.transData, label=str(idsorted[i]), facecolor=f\"C{i}\", edgecolor=f\"C{i}\")\n",
    "            ax.add_patch(circ)\n",
    "            circles_with_radius(ax, data.x.loc[this], data.y.loc[this], \n",
    "                                data.radius.loc[this],\n",
    "                                facecolor=\"none\", edgecolor=f\"C{i}\")\n",
    "        else:\n",
    "            plt.plot(data.x.loc[this], data.y.loc[this], \".\", label=idsorted[i], color=f\"C{i}\")\n",
    "    plt.axis(\"equal\")\n",
    "else:\n",
    "    for i in range(ntot):\n",
    "        this = data.idx == idsorted[i]\n",
    "        # plt.plot(data.t.loc[this], data.a.loc[this], \".\", label=idsorted[i])\n",
    "        # plt.plot(data.a.loc[this], data.e.loc[this], \".\", label=idsorted[i])\n",
    "        plt.plot(data.t.loc[this], data.mmr.loc[this], \".\", label=idsorted[i])\n",
    "    plt.semilogx()\n",
    "plt.legend()\n",
    "plt.show()"
   ]
  },
  {
   "cell_type": "code",
   "execution_count": null,
   "id": "2b1729d4",
   "metadata": {},
   "outputs": [],
   "source": [
    "for i in range(ntot):\n",
    "    # plt.plot(data.t, data.theta / np.pi *180, \".\")\n",
    "    plt.plot(data.t, data.omega, \".\")\n",
    "plt.semilogx()"
   ]
  },
  {
   "cell_type": "code",
   "execution_count": null,
   "id": "3437909d",
   "metadata": {},
   "outputs": [],
   "source": []
  },
  {
   "cell_type": "code",
   "execution_count": null,
   "id": "a2993876",
   "metadata": {},
   "outputs": [],
   "source": []
  }
 ],
 "metadata": {
  "kernelspec": {
   "display_name": "base",
   "language": "python",
   "name": "python3"
  },
  "language_info": {
   "codemirror_mode": {
    "name": "ipython",
    "version": 3
   },
   "file_extension": ".py",
   "mimetype": "text/x-python",
   "name": "python",
   "nbconvert_exporter": "python",
   "pygments_lexer": "ipython3",
   "version": "3.12.3"
  }
 },
 "nbformat": 4,
 "nbformat_minor": 5
}
